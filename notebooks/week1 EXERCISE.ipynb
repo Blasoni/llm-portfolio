{
 "cells": [
  {
   "cell_type": "markdown",
   "id": "fe12c203-e6a6-452c-a655-afb8a03a4ff5",
   "metadata": {},
   "source": [
    "# End of week 1 exercise\n",
    "\n",
    "To demonstrate your familiarity with OpenAI API, and also Ollama, build a tool that takes a technical question,  \n",
    "and responds with an explanation. This is a tool that you will be able to use yourself during the course!"
   ]
  },
  {
   "cell_type": "code",
   "execution_count": 29,
   "id": "c1070317-3ed9-4659-abe3-828943230e03",
   "metadata": {},
   "outputs": [],
   "source": [
    "# imports\n",
    "import os\n",
    "import requests\n",
    "from dotenv import load_dotenv\n",
    "from IPython.display import Markdown, display\n",
    "from openai import OpenAI"
   ]
  },
  {
   "cell_type": "code",
   "execution_count": 30,
   "id": "4a456906-915a-4bfd-bb9d-57e505c5093f",
   "metadata": {},
   "outputs": [],
   "source": [
    "# constants\n",
    "\n",
    "MODEL_GPT = 'gpt-4o-mini'\n",
    "MODEL_LLAMA = 'llama3.2'"
   ]
  },
  {
   "cell_type": "code",
   "execution_count": 31,
   "id": "a8d7923c-5f28-4c30-8556-342d7c8497c1",
   "metadata": {},
   "outputs": [],
   "source": [
    "# set up environment\n",
    "load_dotenv(override=True)\n",
    "api_key = os.getenv('OPENAI_API_KEY')"
   ]
  },
  {
   "cell_type": "code",
   "execution_count": 32,
   "id": "0cc86777-c608-47f3-8294-87b8d31eac20",
   "metadata": {},
   "outputs": [
    {
     "data": {
      "text/plain": [
       "164"
      ]
     },
     "execution_count": 32,
     "metadata": {},
     "output_type": "execute_result"
    }
   ],
   "source": [
    "len(api_key)"
   ]
  },
  {
   "cell_type": "code",
   "execution_count": 33,
   "id": "3f0d0137-52b0-47a8-81a8-11a90a010798",
   "metadata": {},
   "outputs": [],
   "source": [
    "# here is the question; type over this to ask something new\n",
    "\n",
    "question = \"\"\"\n",
    "I am 25 and an IT security analyst with a master's degree in transportation engineering. What would you \n",
    "What would be the next steps of my career, and what would you have me work on regarding studying for the next level? \n",
    "\"\"\"\n",
    "\n",
    "assistant = \"\"\"\n",
    "You hold a PhD in computer science focusing on cybersecurity, and have been trained as an LLM to advise people on their next steps in their careers.\n",
    "You name is Jarvis, and you assume these careers are ones that the person already loves, so you consider what would be their next steps regarding \n",
    "their prestige and pay grade, and the ability to continue to grow.\n",
    "\"\"\"\n",
    "\n",
    "messages = [\n",
    "    {\"role\": \"system\", \"content\": assistant},\n",
    "    {\"role\": \"user\", \"content\": question}\n",
    "]"
   ]
  },
  {
   "cell_type": "code",
   "execution_count": 48,
   "id": "60ce7000-a4a5-4cce-a261-e75ef45063b4",
   "metadata": {},
   "outputs": [
    {
     "name": "stdout",
     "output_type": "stream",
     "text": [
      "It's great to hear that you have already established yourself as an IT security analyst, combining your expertise in cybersecurity with your background in transportation engineering. Here are some potential next steps you could consider to elevate your career, enhance your credentials, and ensure continued professional growth:\n",
      "\n",
      "### Next Steps in Your Career:\n",
      "\n",
      "1. **Pursue Relevant Certifications:**\n",
      "   - Consider obtaining industry-recognized certifications such as Certified Information Systems Security Professional (CISSP), Certified Information Security Manager (CISM), or Certified Ethical Hacker (CEH). These can increase your credibility and potentially open up more advanced job opportunities.\n",
      "\n",
      "2. **Explore Specialization in Cybersecurity:**\n",
      "   - Given your background in transportation engineering, specializing in cybersecurity for the transportation sector could be particularly valuable. This is an area with increasing importance due to the rise in smart transportation systems and autonomous vehicles.\n",
      "\n",
      "3. **Consider a PhD or Specialized Graduate Programs:**\n",
      "   - If you aspire to work in research or higher education, a PhD in Cybersecurity or related fields may be beneficial. Alternatively, graduate programs specifically focused on cybersecurity policy or risk management could help deepen your knowledge.\n",
      "\n",
      "4. **Develop Technical Skills:**\n",
      "   - Focus on acquiring advanced technical skills relevant to cybersecurity, such as penetration testing, threat intelligence, or security compliance frameworks. Engaging in hands-on labs, workshops, or capture-the-flag competitions can be pushing this further.\n",
      "\n",
      "5. **Network and Engage with the Community:**\n",
      "   - Join professional organizations such as ISACA, (ISC)², or the Information Systems Security Association (ISSA). Attend conferences, workshops, and webinars to stay up-to-date on industry trends and network with other professionals in your field.\n",
      "\n",
      "6. **Seek Leadership or Project Management Roles:**\n",
      "   - Look for opportunities to lead projects or teams in your current role. Developing soft skills, such as communication and leadership, can position you for management roles in the future.\n",
      "\n",
      "7. **Consider Policy and Compliance Roles:**\n",
      "   - Since your background includes transportation engineering, exploring roles that integrate cybersecurity with policy and compliance, especially related to transportation systems, could be a unique niche.\n",
      "\n",
      "### Recommended Areas to Study:\n",
      "\n",
      "1. **Cybersecurity Frameworks and Standards:**\n",
      "   - Familiarize yourself with frameworks like NIST, ISO 27001, and the Cybersecurity Framework from the National Institute of Standards and Technology (NIST). \n",
      "\n",
      "2. **Emerging Technologies:**\n",
      "   - Study the implications of IoT, machine learning, and AI in cybersecurity. Understanding how these technologies apply to transportation can give you a significant advantage.\n",
      "\n",
      "3. **Incident Response and Risk Management:**\n",
      "   - Develop your skills in incident response planning and risk management. This knowledge is crucial in understanding how to protect critical infrastructure, including transportation systems.\n",
      "\n",
      "4. **Regulatory Environment and Compliance:**\n",
      "   - Knowledge of regulations specific to the transportation sector, such as the Federal Motor Carrier Safety Administration (FMCSA) regulations, can differentiate you from other candidates.\n",
      "\n",
      "5. **Soft Skills Development:**\n",
      "   - Focus on enhancing your soft skills, particularly in communication, teamwork, and leadership. Being able to communicate complex security concepts to non-technical stakeholders is invaluable.\n",
      "\n",
      "By pursuing these recommended steps and study areas, you will not only enhance your expertise and career prospects but also position yourself as a valuable asset in a growing field that intersects IT security and transportation. Good luck with your next career steps!\n",
      "\n",
      "-- done--\n"
     ]
    }
   ],
   "source": [
    "# Get gpt-4o-mini to answer, with streaming\n",
    "openai = OpenAI()\n",
    "\n",
    "response = openai.chat.completions.create(model=MODEL_GPT, messages=messages, stream=True)\n",
    "\n",
    "full_text=[]\n",
    "\n",
    "for chunk in response:\n",
    "    delta = chunk.choices[0].delta\n",
    "    if delta and delta.content:\n",
    "        print(delta.content, end=\"\", flush=True)\n",
    "        full_text.append(delta.content)\n",
    "\n",
    "result = \"\".join(full_text)\n",
    "print(\"\\n\\n-- done--\")"
   ]
  },
  {
   "cell_type": "code",
   "execution_count": null,
   "id": "aba4b1bc-14b2-42d2-864a-ff9c800cb6d9",
   "metadata": {},
   "outputs": [],
   "source": []
  },
  {
   "cell_type": "code",
   "execution_count": 37,
   "id": "8f7c8ea8-4082-4ad0-8751-3301adcf6538",
   "metadata": {},
   "outputs": [],
   "source": [
    "# Get Llama 3.2 to answer\n",
    "OLLAMA_API = \"http://localhost:11434/api/chat\"\n",
    "HEADERS = {\"Content-Type\": \"application/json\"}\n",
    "MODEL = MODEL_LLAMA\n",
    "\n",
    "payload = {\n",
    "    \"model\": MODEL,\n",
    "    \"messages\": messages,\n",
    "    \"stream\": False\n",
    "}"
   ]
  },
  {
   "cell_type": "code",
   "execution_count": 38,
   "id": "dd838594-ed22-40d7-b9cf-1158e6f85087",
   "metadata": {},
   "outputs": [
    {
     "name": "stdout",
     "output_type": "stream",
     "text": [
      "It sounds like you've taken an unconventional but intriguing path! As an IT security analyst with a master's degree in transportation engineering, you possess a unique blend of technical and analytical skills. I'll provide guidance on potential next steps to enhance your career prospects and growth.\n",
      "\n",
      "**Current Strengths:**\n",
      "\n",
      "1. Technical expertise in cybersecurity\n",
      "2. Analytical problem-solving skills from transportation engineering background\n",
      "3. Ability to think critically and outside the box\n",
      "\n",
      "**Next Steps:**\n",
      "\n",
      "1. **Cybersecurity Specialization:** Consider pursuing certifications like CompTIA Security+ or CISSP, which will demonstrate your expertise and commitment to the field. This will also increase your earning potential.\n",
      "2. **Networking and Professional Development:** Attend conferences, webinars, and workshops focused on cybersecurity to stay updated on industry trends and best practices. Join online communities, such as Reddit's netsec community, to network with peers and thought leaders.\n",
      "3. **Advanced Education or Training:**\n",
      "\t* A bachelor's or master's degree in computer science, information assurance, or a related field can provide a solid foundation for advanced roles.\n",
      "\t* Online courses or bootcamps that focus on emerging areas like cloud security, artificial intelligence, or cybersecurity policy might be beneficial.\n",
      "4. **Career Advancement Opportunities:**\n",
      "\t* Seek out leadership positions or specialized roles, such as:\n",
      "\t\t+ Cloud Security Engineer\n",
      "\t\t+ Penetration Tester\n",
      "\t\t+ Incident Response Specialist\n",
      "\t\t+ Cybersecurity Consultant\n",
      "\n",
      "**Studying for the Next Level:**\n",
      "\n",
      "1. **CISSP Certification:** Aim to become a Certified Information Systems Security Professional (CISSP) by studying and preparing for the exam. This certification is considered the gold standard in the industry.\n",
      "2. **CompTIA CAE+:** Consider obtaining the CompTIA Cybersecurity Analyst (CSA+) certification, which demonstrates expertise in managing and mitigating cybersecurity risks.\n",
      "3. **Cloud Security:** Study cloud security concepts, architecture, and best practices to position yourself for roles like Cloud Security Engineer or Cloud Security Consultant.\n",
      "4. **Artificial Intelligence and Machine Learning:** Familiarize yourself with AI and ML concepts, as they're increasingly applied in cybersecurity. Online courses or tutorials on platforms like Coursera, Udemy, or edX can help.\n",
      "\n",
      "**Action Plan:**\n",
      "\n",
      "1. Research and create a list of 2-3 potential certifications you'd like to pursue.\n",
      "2. Allocate 10-15 hours per week for studying and professional development.\n",
      "3. Network with peers and industry professionals through online communities, conferences, and workshops.\n",
      "4. Update your resume and LinkedIn profile to reflect your new skills and experiences.\n",
      "\n",
      "By following this plan, you'll be well on your way to enhancing your career prospects and growth in the field of cybersecurity.\n"
     ]
    }
   ],
   "source": [
    "response = requests.post(OLLAMA_API, json=payload, headers=HEADERS)\n",
    "print(response.json()['message']['content'])"
   ]
  },
  {
   "cell_type": "markdown",
   "id": "767a6c41-a0a7-480a-90cf-2d4e63f51d7d",
   "metadata": {},
   "source": [
    "It sounds like you've taken an unconventional but intriguing path! As an IT security analyst with a master's degree in transportation engineering, you possess a unique blend of technical and analytical skills. I'll provide guidance on potential next steps to enhance your career prospects and growth.\n",
    "\n",
    "**Current Strengths:**\n",
    "\n",
    "1. Technical expertise in cybersecurity\n",
    "2. Analytical problem-solving skills from transportation engineering background\n",
    "3. Ability to think critically and outside the box\n",
    "\n",
    "**Next Steps:**\n",
    "\n",
    "1. **Cybersecurity Specialization:** Consider pursuing certifications like CompTIA Security+ or CISSP, which will demonstrate your expertise and commitment to the field. This will also increase your earning potential.\n",
    "2. **Networking and Professional Development:** Attend conferences, webinars, and workshops focused on cybersecurity to stay updated on industry trends and best practices. Join online communities, such as Reddit's netsec community, to network with peers and thought leaders.\n",
    "3. **Advanced Education or Training:**\n",
    "\t* A bachelor's or master's degree in computer science, information assurance, or a related field can provide a solid foundation for advanced roles.\n",
    "\t* Online courses or bootcamps that focus on emerging areas like cloud security, artificial intelligence, or cybersecurity policy might be beneficial.\n",
    "4. **Career Advancement Opportunities:**\n",
    "\t* Seek out leadership positions or specialized roles, such as:\n",
    "\t\t+ Cloud Security Engineer\n",
    "\t\t+ Penetration Tester\n",
    "\t\t+ Incident Response Specialist\n",
    "\t\t+ Cybersecurity Consultant\n",
    "\n",
    "**Studying for the Next Level:**\n",
    "\n",
    "1. **CISSP Certification:** Aim to become a Certified Information Systems Security Professional (CISSP) by studying and preparing for the exam. This certification is considered the gold standard in the industry.\n",
    "2. **CompTIA CAE+:** Consider obtaining the CompTIA Cybersecurity Analyst (CSA+) certification, which demonstrates expertise in managing and mitigating cybersecurity risks.\n",
    "3. **Cloud Security:** Study cloud security concepts, architecture, and best practices to position yourself for roles like Cloud Security Engineer or Cloud Security Consultant.\n",
    "4. **Artificial Intelligence and Machine Learning:** Familiarize yourself with AI and ML concepts, as they're increasingly applied in cybersecurity. Online courses or tutorials on platforms like Coursera, Udemy, or edX can help.\n",
    "\n",
    "**Action Plan:**\n",
    "\n",
    "1. Research and create a list of 2-3 potential certifications you'd like to pursue.\n",
    "2. Allocate 10-15 hours per week for studying and professional development.\n",
    "3. Network with peers and industry professionals through online communities, conferences, and workshops.\n",
    "4. Update your resume and LinkedIn profile to reflect your new skills and experiences.\n",
    "\n",
    "By following this plan, you'll be well on your way to enhancing your career prospects and growth in the field of cybersecurity."
   ]
  },
  {
   "cell_type": "code",
   "execution_count": null,
   "id": "0d7ad8af-405c-489f-bfd6-16f90e4dc974",
   "metadata": {},
   "outputs": [],
   "source": []
  }
 ],
 "metadata": {
  "kernelspec": {
   "display_name": "Python 3 (ipykernel)",
   "language": "python",
   "name": "python3"
  },
  "language_info": {
   "codemirror_mode": {
    "name": "ipython",
    "version": 3
   },
   "file_extension": ".py",
   "mimetype": "text/x-python",
   "name": "python",
   "nbconvert_exporter": "python",
   "pygments_lexer": "ipython3",
   "version": "3.11.13"
  }
 },
 "nbformat": 4,
 "nbformat_minor": 5
}
