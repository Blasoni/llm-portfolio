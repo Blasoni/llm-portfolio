{
 "cells": [
  {
   "cell_type": "markdown",
   "id": "fe12c203-e6a6-452c-a655-afb8a03a4ff5",
   "metadata": {},
   "source": [
    "# Comparing Local and Frontier LLMs Using Their API's"
   ]
  },
  {
   "cell_type": "markdown",
   "id": "f6a5b5bf-256a-486b-b04c-47903b7ee749",
   "metadata": {},
   "source": [
    "## 1. Imports\n",
    "Import the core Python libraries and third-party packages needed for API communication, environment setup, and Markdown display in Jupyter."
   ]
  },
  {
   "cell_type": "code",
   "execution_count": 1,
   "id": "c1070317-3ed9-4659-abe3-828943230e03",
   "metadata": {},
   "outputs": [],
   "source": [
    "# The imports needed for this exercise\n",
    "import os                                     # Provides access to environment variables and system functions\n",
    "import requests                               # Used to send HTTP requests (Ollama API in this instance)\n",
    "from dotenv import load_dotenv                # Loads environment variables from a .env file into the runtime\n",
    "from IPython.display import Markdown, display # Enables formatted Markdown output in Jupyter notebooks\n",
    "from openai import OpenAI                     # Official OpenAI Python SDK for interacting with ChatGPT and other models"
   ]
  },
  {
   "cell_type": "markdown",
   "id": "5a7b486d-9d31-4b1d-b99f-79072d64f203",
   "metadata": {},
   "source": [
    "## 2. Environment Setup\n",
    "Load environment variables (like API keys) and define any constants or configuration settings needed for API calls.\n"
   ]
  },
  {
   "cell_type": "code",
   "execution_count": 2,
   "id": "4a456906-915a-4bfd-bb9d-57e505c5093f",
   "metadata": {},
   "outputs": [],
   "source": [
    "# Specific LLM models that we are going to be using\n",
    "MODEL_GPT = 'gpt-4o-mini'\n",
    "MODEL_LLAMA = 'llama3.2'"
   ]
  },
  {
   "cell_type": "code",
   "execution_count": 3,
   "id": "a8d7923c-5f28-4c30-8556-342d7c8497c1",
   "metadata": {},
   "outputs": [],
   "source": [
    "# setting up environment\n",
    "\n",
    "load_dotenv(override=True) # Loads environment variables from the .env file in the current directory\n",
    "api_key = os.getenv('OPENAI_API_KEY') # Retrieves the OpenAI API key by its variable name ('OPENAI_API_KEY')"
   ]
  },
  {
   "cell_type": "code",
   "execution_count": 4,
   "id": "0cc86777-c608-47f3-8294-87b8d31eac20",
   "metadata": {},
   "outputs": [
    {
     "data": {
      "text/plain": [
       "164"
      ]
     },
     "execution_count": 4,
     "metadata": {},
     "output_type": "execute_result"
    }
   ],
   "source": [
    "# Quick attempt to make sure that our API Key is found\n",
    "len(api_key)"
   ]
  },
  {
   "cell_type": "code",
   "execution_count": 5,
   "id": "3f0d0137-52b0-47a8-81a8-11a90a010798",
   "metadata": {},
   "outputs": [],
   "source": [
    "# Setting up our system and user prompt\n",
    "\n",
    "# recall: 'system' (system variable = 'assistant') is the role we want our llm to play\n",
    "# recall: 'user' (user variable = 'question')represents the end user providing input or asking a question\n",
    "\n",
    "assistant = \"\"\"\n",
    "You hold a PhD in computer science focusing on cybersecurity, and have been trained as an LLM to advise people on their next steps in their careers.\n",
    "You assume these careers are ones that the person already loves, so you consider what would be their next steps regarding \n",
    "their prestige and pay grade, and the ability to continue to grow.\n",
    "\"\"\"\n",
    "\n",
    "question = \"\"\"\n",
    "I am 25 and an IT security analyst with a master's degree in transportation engineering. What would you \n",
    "What would be the next steps of my career, and what would you have me work on regarding studying for the next level? \n",
    "\"\"\"\n",
    "\n",
    "# This is the standard message format that most LLM APIs expect\n",
    "messages = [\n",
    "    {\"role\": \"system\", \"content\": assistant},\n",
    "    {\"role\": \"user\", \"content\": question}\n",
    "]"
   ]
  },
  {
   "cell_type": "markdown",
   "id": "7fdec81a-30fa-4ef1-8c93-74c7e78ce205",
   "metadata": {},
   "source": [
    "## 3. Querying Ollama (Local LLM)\n",
    "Connect to a locally running Ollama 3.2 instance via HTTP.  \n",
    "Compare model responses and discuss the trade-offs between local and hosted LLMs."
   ]
  },
  {
   "cell_type": "code",
   "execution_count": 6,
   "id": "8f7c8ea8-4082-4ad0-8751-3301adcf6538",
   "metadata": {},
   "outputs": [],
   "source": [
    "# Working with Ollama 3.2 to compare its responses with frontier LLMs\n",
    "\n",
    "# Reaching Ollama via HTTP (Test functionality by going to 'http://localhost:11434' on your web browser)\n",
    "OLLAMA_API = \"http://localhost:11434/api/chat\"\n",
    "\n",
    "#Required headers that an Ollama's api call expects over HTTP\n",
    "HEADERS = {\"Content-Type\": \"application/json\"}\n",
    "\n",
    "#Setting the model parameters to what was previously defined\n",
    "MODEL = MODEL_LLAMA\n",
    "\n",
    "#Ollama API call payload\n",
    "payload = {\n",
    "    \"model\": MODEL, # defined in this cell\n",
    "    \"messages\": messages, # Recall conversation structure (system & user prompts)\n",
    "    \"stream\": False # Ollama doesn't have an SDK that makes streaming the response easier, so it will be 'False', still good to see the comparison in each output\n",
    "}"
   ]
  },
  {
   "cell_type": "code",
   "execution_count": 7,
   "id": "dd838594-ed22-40d7-b9cf-1158e6f85087",
   "metadata": {
    "scrolled": true
   },
   "outputs": [
    {
     "name": "stdout",
     "output_type": "stream",
     "text": [
      "It's great to see that you've leveraged your unique blend of technical and non-technical skills to land an IT security analyst role! With a master's degree in transportation engineering, you bring a valuable perspective to the table. Here are some suggestions for next steps:\n",
      "\n",
      "**Short-term goals (next 2-3 years)**\n",
      "\n",
      "1. **Certification:** Consider obtaining industry-recognized certifications like CompTIA Security+, CISSP, or CEH. This will not only enhance your skills but also demonstrate your commitment to the field.\n",
      "2. **Technical specialization:** Focus on a specific area of IT security that aligns with your interests and strengths, such as:\n",
      "\t* Cloud security\n",
      "\t* Incident response\n",
      "\t* Penetration testing\n",
      "\t* Security architecture\n",
      "3. **Networking:** Attend industry conferences, meetups, and webinars to expand your network and stay up-to-date on the latest threats and technologies.\n",
      "4. **Mentorship:** Find a mentor who can provide guidance, support, and valuable insights into the field.\n",
      "\n",
      "**Mid-term goals (next 5-7 years)**\n",
      "\n",
      "1. **Leadership roles:** As you gain experience and build your reputation, consider taking on leadership roles within your organization or industry.\n",
      "2. **Project management:** Develop skills in project management to oversee security projects, initiatives, or teams.\n",
      "3. **Consulting:** Pursue consulting opportunities to work with clients, assess their security posture, and provide recommendations for improvement.\n",
      "4. **Research and development:** Explore research opportunities or participate in bug bounty programs to stay ahead of emerging threats.\n",
      "\n",
      "**Long-term goals (next 10+ years)**\n",
      "\n",
      "1. **Director/Manager roles:** Aim for senior leadership positions where you'll oversee large teams, develop strategic plans, and drive business growth through security initiatives.\n",
      "2. **Board member or advisor:** Consider serving on boards or advising organizations on security matters to leverage your expertise and network.\n",
      "3. **Thought leadership:** Establish yourself as a subject matter expert by publishing articles, speaking at conferences, or participating in podcasts.\n",
      "\n",
      "**Studying for the next level**\n",
      "\n",
      "To continue growing and advancing in your career, focus on the following topics:\n",
      "\n",
      "1. **Cloud security:** Study cloud-specific threats, vulnerabilities, and best practices to ensure you're equipped to protect multi-cloud environments.\n",
      "2. **Artificial intelligence and machine learning (AI/ML) security:** Explore the intersection of AI/ML and security, including the potential risks and benefits.\n",
      "3. **Cybersecurity frameworks and standards:** Familiarize yourself with industry-recognized frameworks like NIST Cybersecurity Framework, ISO 27001, or COBIT.\n",
      "4. **Business continuity and disaster recovery:** Understand the importance of business continuity planning, disaster recovery strategies, and incident response.\n",
      "\n",
      "**Recommended resources**\n",
      "\n",
      "* Books:\n",
      "\t+ \"Cyber Security: A Beginner's Guide\" by Shon Harris\n",
      "\t+ \"Cloud Security: A Practical Guide\" by Michael Clopinel\n",
      "* Online courses:\n",
      "\t+ CompTIA Security+\n",
      "\t+ Coursera - Cybersecurity Specialization\n",
      "\t+ edX - Cloud Computing and Security\n",
      "* Blogs and podcasts:\n",
      "\t+ Threatpost\n",
      "\t+ Dark Reading\n",
      "\t+ The CyberWire\n"
     ]
    }
   ],
   "source": [
    "# Send the request to the local Ollama API and store the response in 'answer' (Parameters are defined in the cell above)\n",
    "answer = requests.post(OLLAMA_API, json=payload, headers=HEADERS)\n",
    "\n",
    "# Getting the LLM's output/answer for the query made in the 'answer' post request/question\n",
    "# Then printing it out\n",
    "print(answer.json()['message']['content'])"
   ]
  },
  {
   "cell_type": "markdown",
   "id": "0d846c01-61e3-465f-982c-3f91848defb4",
   "metadata": {},
   "source": [
    "## 4. Querying OpenAI’s API\n",
    "Use OpenAI’s Python SDK to send chat completion requests.  "
   ]
  },
  {
   "cell_type": "code",
   "execution_count": 8,
   "id": "60ce7000-a4a5-4cce-a261-e75ef45063b4",
   "metadata": {},
   "outputs": [
    {
     "name": "stdout",
     "output_type": "stream",
     "text": [
      "As an IT security analyst with a master's degree in transportation engineering, you have a unique combination of skills that can be leveraged in various ways. Here are some potential next steps for your career, keeping in mind your desire for prestige, pay grade, and growth:\n",
      "\n",
      "### 1. Pursue Relevant Certifications\n",
      "To enhance your qualifications and expertise in cybersecurity, consider obtaining industry-recognized certifications. Some valuable ones include:\n",
      "   - **Certified Information Systems Security Professional (CISSP)**: This certification is recognized globally and can help you move into managerial roles.\n",
      "   - **Certified Ethical Hacker (CEH)**: This will bolster your skills in penetration testing and vulnerability assessment.\n",
      "   - **Certified Information Security Manager (CISM)**: Focuses on security management and governance, which can prepare you for leadership positions.\n",
      "\n",
      "### 2. Explore Specialized Areas\n",
      "Given your background in transportation engineering, you might consider specializing in cybersecurity for critical infrastructure. Areas such as automotive cybersecurity, smart transportation systems, or IoT security could be especially relevant. \n",
      "\n",
      "### 3. Gain Experience and Leadership Skills\n",
      "Look for opportunities that allow you to take on leadership responsibilities:\n",
      "   - **Lead Projects:** Volunteer to lead security projects or initiatives within your current organization.\n",
      "   - **Mentorship:** Consider mentoring junior analysts or interns, which can enhance your leadership skills.\n",
      "\n",
      "### 4. Networking and Professional Communities\n",
      "Join professional organizations and networks specific to cybersecurity, such as:\n",
      "   - **Information Systems Security Association (ISSA)**\n",
      "   - **International Association for Privacy Professionals (IAPP)**\n",
      "   - Attend conferences, webinars, and local meetups to build your network and stay up to date on trends.\n",
      "\n",
      "### 5. Develop Soft Skills\n",
      "Effective communication, teamwork, and problem-solving skills are vital in managerial roles. Consider training or workshops that can improve these skills, preparing you for higher positions.\n",
      "\n",
      "### 6. Advanced Degree or Specialized Training\n",
      "If you're interested in further academic pursuits, consider:\n",
      "   - **PhD in Cybersecurity or Information Assurance**: This can open up academic and high-level research opportunities.\n",
      "   - **MBA with a focus on Information Technology Management**: This could prepare you for executive roles in tech management.\n",
      "\n",
      "### 7. Look for Advancement Opportunities\n",
      "Keep an eye on job postings for positions like Security Architect, Security Manager, or even roles that involve overseeing cybersecurity policies in transportation organizations. Look within your current job or explore new companies that focus on the intersection of transportation and technology.\n",
      "\n",
      "### Conclusion\n",
      "Combining your technical skills in IT security with your knowledge in transportation engineering presents unique opportunities for career advancement. By pursuing relevant certifications, specializing in a niche area, and continuing your professional development, you can increase your prestige and pay grade while ensuring ongoing growth in your career.\n",
      "\n",
      "-- done--\n"
     ]
    }
   ],
   "source": [
    "# Querying OpenAI's ChatGPT via API with the response being streamed\n",
    "# Since stream=True, ChatGPT is sending us the information piece by piece (So it is more real-time response/looks cooler)\n",
    "\n",
    "#Create an OpenAI client instance.\n",
    "# This object automatically reads your API key from the environment (via load_dotenv)\n",
    "# and manages the connection and authentication for all API calls.\n",
    "openai = OpenAI()\n",
    "\n",
    "# Sends the chat completion request to the model with streaming enabled\n",
    "response = openai.chat.completions.create(model=MODEL_GPT, messages=messages, stream=True)\n",
    "\n",
    "full_text=[] # Creating a list, its purpose will hopefully be self-explanatory soon\n",
    "\n",
    "# For each piece that is given in the response\n",
    "for chunk in response:\n",
    "    #Pick the first choice of the model (chunk.choices is the JSON structure returned by the API —\n",
    "    # if this feels abstract, review how JSON objects and lists are accessed in Python)\n",
    "    delta = chunk.choices[0].delta #.delta holds the new piece of data\n",
    "\n",
    "    # delta.content check to make sure the chunk contains real-text, not meta data)\n",
    "    if delta and delta.content: \n",
    "        #printing out the real-text and the \n",
    "        #end= \"\" is present, so every chunk isn't a new line\n",
    "        #flush forces Python to show the content right away instead of buffering (if hard to conceptualize, query it as both True and False to see the difference in output streams)\n",
    "        print(delta.content, end=\"\", flush=True) \n",
    "        \n",
    "        # Store the text so we could reconstruct the full message later if needed\n",
    "        full_text.append(delta.content) # add the new content (delta.content) to a list that we will be printing out \n",
    "\n",
    "print(\"\\n\\n-- done--\") # Just to make sure we have gotten to the end of the output"
   ]
  }
 ],
 "metadata": {
  "kernelspec": {
   "display_name": "Python 3 (ipykernel)",
   "language": "python",
   "name": "python3"
  },
  "language_info": {
   "codemirror_mode": {
    "name": "ipython",
    "version": 3
   },
   "file_extension": ".py",
   "mimetype": "text/x-python",
   "name": "python",
   "nbconvert_exporter": "python",
   "pygments_lexer": "ipython3",
   "version": "3.11.13"
  }
 },
 "nbformat": 4,
 "nbformat_minor": 5
}
